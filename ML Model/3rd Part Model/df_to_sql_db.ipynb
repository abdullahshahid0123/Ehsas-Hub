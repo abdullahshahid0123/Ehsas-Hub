{
 "cells": [
  {
   "cell_type": "code",
   "execution_count": 3,
   "id": "7e8f4574",
   "metadata": {},
   "outputs": [],
   "source": [
    "import os\n",
    "import pandas as pd\n",
    "from sqlalchemy import create_engine\n",
    "from dotenv import load_dotenv"
   ]
  },
  {
   "cell_type": "code",
   "execution_count": 4,
   "id": "70c54c0f",
   "metadata": {},
   "outputs": [
    {
     "data": {
      "text/plain": [
       "True"
      ]
     },
     "execution_count": 4,
     "metadata": {},
     "output_type": "execute_result"
    }
   ],
   "source": [
    "load_dotenv()"
   ]
  },
  {
   "cell_type": "code",
   "execution_count": 5,
   "id": "3a6018ac",
   "metadata": {},
   "outputs": [],
   "source": [
    "# DB credentials\n",
    "db_user = os.getenv('DB_USER')\n",
    "db_password = os.getenv('DB_PASSWORD')\n",
    "db_host = os.getenv('DB_HOST')\n",
    "db_name = os.getenv('DB_NAME')"
   ]
  },
  {
   "cell_type": "code",
   "execution_count": 8,
   "id": "008c81bf",
   "metadata": {},
   "outputs": [
    {
     "name": "stdout",
     "output_type": "stream",
     "text": [
      "Tables replaced successfully.\n"
     ]
    }
   ],
   "source": [
    "# SQLAlchemy engine\n",
    "connection_string = f\"mysql+pymysql://{db_user}:{db_password}@{db_host}:3306/{db_name}\"\n",
    "engine = create_engine(connection_string)\n",
    "\n",
    "# Load CSVs into pandas DataFrames\n",
    "books_df = pd.read_excel('books.xlsx')\n",
    "users_df = pd.read_csv('users.csv')\n",
    "interactions_df = pd.read_csv('interactions.csv')\n",
    "\n",
    "# Replace existing tables in MySQL\n",
    "books_df.to_sql('books', con=engine, if_exists='replace', index=False)\n",
    "users_df.to_sql('users', con=engine, if_exists='replace', index=False)\n",
    "interactions_df.to_sql('interactions', con=engine, if_exists='replace', index=False)\n",
    "\n",
    "print(\"Tables replaced successfully.\")\n"
   ]
  }
 ],
 "metadata": {
  "kernelspec": {
   "display_name": "base",
   "language": "python",
   "name": "python3"
  },
  "language_info": {
   "codemirror_mode": {
    "name": "ipython",
    "version": 3
   },
   "file_extension": ".py",
   "mimetype": "text/x-python",
   "name": "python",
   "nbconvert_exporter": "python",
   "pygments_lexer": "ipython3",
   "version": "3.11.7"
  }
 },
 "nbformat": 4,
 "nbformat_minor": 5
}
